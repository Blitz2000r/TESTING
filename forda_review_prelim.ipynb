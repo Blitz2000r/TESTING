{
  "nbformat": 4,
  "nbformat_minor": 0,
  "metadata": {
    "colab": {
      "provenance": [],
      "authorship_tag": "ABX9TyOdV0bYiHuDxjc/MKhTKi0T",
      "include_colab_link": true
    },
    "kernelspec": {
      "name": "python3",
      "display_name": "Python 3"
    },
    "language_info": {
      "name": "python"
    }
  },
  "cells": [
    {
      "cell_type": "markdown",
      "metadata": {
        "id": "view-in-github",
        "colab_type": "text"
      },
      "source": [
        "<a href=\"https://colab.research.google.com/github/Blitz2000r/TESTING/blob/main/forda_review_prelim.ipynb\" target=\"_parent\"><img src=\"https://colab.research.google.com/assets/colab-badge.svg\" alt=\"Open In Colab\"/></a>"
      ]
    },
    {
      "cell_type": "markdown",
      "source": [
        "dito pede ' \" kasi iisa lang kalalabasan STRINGS TO"
      ],
      "metadata": {
        "id": "_7CJ5tsz-TdL"
      }
    },
    {
      "cell_type": "code",
      "execution_count": 10,
      "metadata": {
        "colab": {
          "base_uri": "https://localhost:8080/"
        },
        "id": "ZzOMEQRs9P1-",
        "outputId": "d34961f4-62e3-4f52-8949-4916967bc7d5"
      },
      "outputs": [
        {
          "output_type": "stream",
          "name": "stdout",
          "text": [
            "molly na panget\n",
            "naixxe\n"
          ]
        }
      ],
      "source": [
        "print(\"molly na panget\")\n",
        "print('naixxe')"
      ]
    },
    {
      "cell_type": "markdown",
      "source": [
        "lah pede pla ganyan walang ' \""
      ],
      "metadata": {
        "id": "M_4haXw6-OOT"
      }
    },
    {
      "cell_type": "code",
      "source": [
        "elise = 'hakdog na hakdog'\n",
        "print(elise)\n",
        "\n",
        "EDISANAPINABILLBOARDMO = \"hay\"\n",
        "print(EDISANAPINABILLBOARDMO)"
      ],
      "metadata": {
        "colab": {
          "base_uri": "https://localhost:8080/"
        },
        "id": "wNTH0JCl97Ko",
        "outputId": "3a78b332-f28c-4e4f-c5fd-a227faa852d4"
      },
      "execution_count": 12,
      "outputs": [
        {
          "output_type": "stream",
          "name": "stdout",
          "text": [
            "hakdog na hakdog\n",
            "hay\n"
          ]
        }
      ]
    },
    {
      "cell_type": "markdown",
      "source": [
        "BOOLEAN"
      ],
      "metadata": {
        "id": "BRNWC7Vd_Cqa"
      }
    },
    {
      "cell_type": "code",
      "source": [
        "print(2039 < 84059)\n",
        "print(9463 > 3575)\n",
        "print(1936 == 9573)"
      ],
      "metadata": {
        "colab": {
          "base_uri": "https://localhost:8080/"
        },
        "id": "miZ0RlR9-Y2I",
        "outputId": "5e8a9dfc-2916-4d92-86ee-5dc075fe2be2"
      },
      "execution_count": 6,
      "outputs": [
        {
          "output_type": "stream",
          "name": "stdout",
          "text": [
            "True\n",
            "True\n",
            "False\n"
          ]
        }
      ]
    },
    {
      "cell_type": "code",
      "source": [
        "ano = 9348938\n",
        "bakit = 984284872\n",
        "\n",
        "if bakit > ano:\n",
        "  print('bakit is greater than ano')\n",
        "else:\n",
        "  print(\"bakit is not greater than ano\")"
      ],
      "metadata": {
        "colab": {
          "base_uri": "https://localhost:8080/"
        },
        "id": "9ibvmkDV_buA",
        "outputId": "4364395f-590c-4fed-97b6-c6893c262c24"
      },
      "execution_count": 7,
      "outputs": [
        {
          "output_type": "stream",
          "name": "stdout",
          "text": [
            "bakit is greater than ano\n"
          ]
        }
      ]
    },
    {
      "cell_type": "markdown",
      "source": [
        "LIST"
      ],
      "metadata": {
        "id": "BFgIv3QsAOBj"
      }
    },
    {
      "cell_type": "code",
      "source": [
        "listahankoto = ('egg', 'ham', 'nagets', 'hatdog')\n",
        "print(listahankoto)"
      ],
      "metadata": {
        "colab": {
          "base_uri": "https://localhost:8080/"
        },
        "id": "SUIb5MqmAAoT",
        "outputId": "75ca2feb-38d3-41e5-fcd7-c538077a33be"
      },
      "execution_count": 8,
      "outputs": [
        {
          "output_type": "stream",
          "name": "stdout",
          "text": [
            "('egg', 'ham', 'nagets', 'hatdog')\n"
          ]
        }
      ]
    },
    {
      "cell_type": "markdown",
      "source": [
        "OOP CREATING CLASS"
      ],
      "metadata": {
        "id": "yL8HYewY9cOQ"
      }
    },
    {
      "cell_type": "code",
      "source": [
        "class cat:\n",
        " def meow(self):\n",
        "   print('meow')\n",
        "\n",
        "c = cat()\n",
        "c.meow()\n",
        "print(type(c))"
      ],
      "metadata": {
        "colab": {
          "base_uri": "https://localhost:8080/"
        },
        "id": "w226s4c-BJhY",
        "outputId": "57954344-f2b9-4a92-b55b-9831fb6108c3"
      },
      "execution_count": 5,
      "outputs": [
        {
          "output_type": "stream",
          "name": "stdout",
          "text": [
            "meow\n",
            "<class '__main__.cat'>\n"
          ]
        }
      ]
    },
    {
      "cell_type": "code",
      "source": [],
      "metadata": {
        "id": "EUirQXKHF7fS"
      },
      "execution_count": null,
      "outputs": []
    }
  ]
}