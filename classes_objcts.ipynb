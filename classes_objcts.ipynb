{
  "nbformat": 4,
  "nbformat_minor": 0,
  "metadata": {
    "colab": {
      "provenance": [],
      "authorship_tag": "ABX9TyPFn/S3ROvrzjUlgKGI3myY",
      "include_colab_link": true
    },
    "kernelspec": {
      "name": "python3",
      "display_name": "Python 3"
    },
    "language_info": {
      "name": "python"
    }
  },
  "cells": [
    {
      "cell_type": "markdown",
      "metadata": {
        "id": "view-in-github",
        "colab_type": "text"
      },
      "source": [
        "<a href=\"https://colab.research.google.com/github/Blitz2000r/TESTING/blob/main/classes_objcts.ipynb\" target=\"_parent\"><img src=\"https://colab.research.google.com/assets/colab-badge.svg\" alt=\"Open In Colab\"/></a>"
      ]
    },
    {
      "cell_type": "code",
      "execution_count": null,
      "metadata": {
        "id": "qycYNdYXQMk3"
      },
      "outputs": [],
      "source": [
        "class Person:\n",
        "  def mollypanget(self):\n",
        "    print(\"Hi guys my name is\" , self.panget , \"and my parents name are\" , self.parents , \"i love to eat\" , self.foods , \"of course my lola spoiled me in\" , self.food , \"Lastly im good at\" , self.tae , \"and i\" , self.arfarf)\n",
        "\n",
        "personObject = Person()\n",
        "\n",
        "personObject.panget = \"Molly\"\n",
        "personObject.parents = \"Mommy Hannah and Mommy Elise\"\n",
        "personObject.foods = \"beefy and ipot\"\n",
        "personObject.food = \"chimken\"\n",
        "personObject.tae = \"pooping and peeing in our garage\"\n",
        "personObject.arfarf = \"thank you\"\n",
        "\n",
        "personObject.mollypanget()"
      ]
    }
  ]
}