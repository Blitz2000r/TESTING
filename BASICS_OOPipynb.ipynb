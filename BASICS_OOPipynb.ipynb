{
  "nbformat": 4,
  "nbformat_minor": 0,
  "metadata": {
    "colab": {
      "provenance": [],
      "authorship_tag": "ABX9TyMAYmynG6xf3r7k+ZpB+Jfh",
      "include_colab_link": true
    },
    "kernelspec": {
      "name": "python3",
      "display_name": "Python 3"
    },
    "language_info": {
      "name": "python"
    }
  },
  "cells": [
    {
      "cell_type": "markdown",
      "metadata": {
        "id": "view-in-github",
        "colab_type": "text"
      },
      "source": [
        "<a href=\"https://colab.research.google.com/github/Blitz2000r/TESTING/blob/main/BASICS_OOPipynb.ipynb\" target=\"_parent\"><img src=\"https://colab.research.google.com/assets/colab-badge.svg\" alt=\"Open In Colab\"/></a>"
      ]
    },
    {
      "cell_type": "code",
      "execution_count": 2,
      "metadata": {
        "colab": {
          "base_uri": "https://localhost:8080/"
        },
        "id": "kE_AALMrij60",
        "outputId": "8f7a1128-b16d-4291-babe-437738c137fe"
      },
      "outputs": [
        {
          "output_type": "stream",
          "name": "stdout",
          "text": [
            "84\n"
          ]
        }
      ],
      "source": [
        " num = 8\n",
        " num *= 8\n",
        " num += 20\n",
        " print(num)"
      ]
    },
    {
      "cell_type": "code",
      "source": [
        "acceleration = 100\n",
        "\n",
        "if acceleration <= 50:\n",
        " print(\"takbong chill lang\")\n",
        "\n",
        "else:\n",
        " print(\"kamote rider\")"
      ],
      "metadata": {
        "colab": {
          "base_uri": "https://localhost:8080/"
        },
        "id": "NT09yLx_jChV",
        "outputId": "091fd8e4-637d-4cda-c253-8ea627815b39"
      },
      "execution_count": 8,
      "outputs": [
        {
          "output_type": "stream",
          "name": "stdout",
          "text": [
            "kamote rider\n"
          ]
        }
      ]
    },
    {
      "cell_type": "code",
      "source": [
        "length = 120\n",
        "\n",
        "if length >= 100:\n",
        "  print(\"over\")\n",
        "\n",
        "elif length >= 130:\n",
        "  print(\"super over\")\n",
        "\n",
        "else:\n",
        "  print(\"saks lang\")"
      ],
      "metadata": {
        "colab": {
          "base_uri": "https://localhost:8080/"
        },
        "id": "aD6BSg31kV4m",
        "outputId": "17f0a504-a193-4148-c902-adf155173f1e"
      },
      "execution_count": 9,
      "outputs": [
        {
          "output_type": "stream",
          "name": "stdout",
          "text": [
            "over\n"
          ]
        }
      ]
    },
    {
      "cell_type": "code",
      "source": [
        "num = 1\n",
        "\n",
        "while num <= 20:\n",
        "  print(num)\n",
        "  num += 1"
      ],
      "metadata": {
        "colab": {
          "base_uri": "https://localhost:8080/"
        },
        "id": "314_5OEvlUvX",
        "outputId": "c437a9ec-b1fb-4a3d-8639-97e91bc6fcf2"
      },
      "execution_count": 13,
      "outputs": [
        {
          "output_type": "stream",
          "name": "stdout",
          "text": [
            "1\n",
            "2\n",
            "3\n",
            "4\n",
            "5\n",
            "6\n",
            "7\n",
            "8\n",
            "9\n",
            "10\n",
            "11\n",
            "12\n",
            "13\n",
            "14\n",
            "15\n",
            "16\n",
            "17\n",
            "18\n",
            "19\n",
            "20\n"
          ]
        }
      ]
    },
    {
      "cell_type": "code",
      "source": [
        "for x in range(2, 15):\n",
        "  print(x)"
      ],
      "metadata": {
        "colab": {
          "base_uri": "https://localhost:8080/"
        },
        "id": "fMJSzqYdmmpa",
        "outputId": "65e21aa1-8137-43ce-9903-56b27908689c"
      },
      "execution_count": 22,
      "outputs": [
        {
          "output_type": "stream",
          "name": "stdout",
          "text": [
            "2\n",
            "3\n",
            "4\n",
            "5\n",
            "6\n",
            "7\n",
            "8\n",
            "9\n",
            "10\n",
            "11\n",
            "12\n",
            "13\n",
            "14\n"
          ]
        }
      ]
    },
    {
      "cell_type": "code",
      "source": [
        "sum = 0\n",
        "for i in range(2,20):\n",
        "  if sum < 15:\n",
        "    break\n",
        "\n",
        "    sum += i\n",
        "\n",
        "print(sum)"
      ],
      "metadata": {
        "colab": {
          "base_uri": "https://localhost:8080/"
        },
        "id": "fgK3IsA8nw6N",
        "outputId": "08e876cc-541e-48a7-9683-ebad9cae7953"
      },
      "execution_count": 28,
      "outputs": [
        {
          "output_type": "stream",
          "name": "stdout",
          "text": [
            "0\n"
          ]
        }
      ]
    },
    {
      "cell_type": "code",
      "source": [
        "price = 100\n",
        "\n",
        "if price <= 300:\n",
        " print(\"the salary is low\")\n",
        "\n",
        "if price >350:\n",
        "  print(\"the salary is high\")\n",
        "\n",
        "else:\n",
        "  print(\"bahala ka na lol\")"
      ],
      "metadata": {
        "colab": {
          "base_uri": "https://localhost:8080/"
        },
        "id": "bda_Ynr1paGm",
        "outputId": "3de66d79-34b6-46f5-fa30-6edb17a929ec"
      },
      "execution_count": 29,
      "outputs": [
        {
          "output_type": "stream",
          "name": "stdout",
          "text": [
            "the salary is low\n",
            "bahala ka na lol\n"
          ]
        }
      ]
    },
    {
      "cell_type": "code",
      "source": [
        "for a in range (1, 10):\n",
        "\n",
        " for b in range (1, 10):\n",
        "\n",
        "  print(a,b)"
      ],
      "metadata": {
        "colab": {
          "base_uri": "https://localhost:8080/"
        },
        "id": "D3RqaLqzqb9x",
        "outputId": "984b862a-f5fb-4330-b6fb-bec48d9e3b8c"
      },
      "execution_count": 31,
      "outputs": [
        {
          "output_type": "stream",
          "name": "stdout",
          "text": [
            "1 1\n",
            "1 2\n",
            "1 3\n",
            "1 4\n",
            "1 5\n",
            "1 6\n",
            "1 7\n",
            "1 8\n",
            "1 9\n",
            "2 1\n",
            "2 2\n",
            "2 3\n",
            "2 4\n",
            "2 5\n",
            "2 6\n",
            "2 7\n",
            "2 8\n",
            "2 9\n",
            "3 1\n",
            "3 2\n",
            "3 3\n",
            "3 4\n",
            "3 5\n",
            "3 6\n",
            "3 7\n",
            "3 8\n",
            "3 9\n",
            "4 1\n",
            "4 2\n",
            "4 3\n",
            "4 4\n",
            "4 5\n",
            "4 6\n",
            "4 7\n",
            "4 8\n",
            "4 9\n",
            "5 1\n",
            "5 2\n",
            "5 3\n",
            "5 4\n",
            "5 5\n",
            "5 6\n",
            "5 7\n",
            "5 8\n",
            "5 9\n",
            "6 1\n",
            "6 2\n",
            "6 3\n",
            "6 4\n",
            "6 5\n",
            "6 6\n",
            "6 7\n",
            "6 8\n",
            "6 9\n",
            "7 1\n",
            "7 2\n",
            "7 3\n",
            "7 4\n",
            "7 5\n",
            "7 6\n",
            "7 7\n",
            "7 8\n",
            "7 9\n",
            "8 1\n",
            "8 2\n",
            "8 3\n",
            "8 4\n",
            "8 5\n",
            "8 6\n",
            "8 7\n",
            "8 8\n",
            "8 9\n",
            "9 1\n",
            "9 2\n",
            "9 3\n",
            "9 4\n",
            "9 5\n",
            "9 6\n",
            "9 7\n",
            "9 8\n",
            "9 9\n"
          ]
        }
      ]
    },
    {
      "cell_type": "code",
      "source": [
        "word = \"hann\"\n",
        "print(word[1], word[2], word[3], word[4])"
      ],
      "metadata": {
        "colab": {
          "base_uri": "https://localhost:8080/",
          "height": 130
        },
        "id": "2gybQFubq9mf",
        "outputId": "ba44e25a-9653-46b1-f489-da1a71e6a333"
      },
      "execution_count": 34,
      "outputs": [
        {
          "output_type": "error",
          "ename": "IndentationError",
          "evalue": "ignored",
          "traceback": [
            "\u001b[0;36m  File \u001b[0;32m\"<ipython-input-34-351002b4e4eb>\"\u001b[0;36m, line \u001b[0;32m2\u001b[0m\n\u001b[0;31m    print(word[1], word[2], word[3], word[4])\u001b[0m\n\u001b[0m    ^\u001b[0m\n\u001b[0;31mIndentationError\u001b[0m\u001b[0;31m:\u001b[0m unexpected indent\n"
          ]
        }
      ]
    },
    {
      "cell_type": "code",
      "source": [
        "print('he' in 'simple')\n",
        "print('ee' in 'simple')"
      ],
      "metadata": {
        "colab": {
          "base_uri": "https://localhost:8080/"
        },
        "id": "TecblUAgsNy6",
        "outputId": "025c9961-ec36-4dd3-b9cf-bf733b930911"
      },
      "execution_count": 37,
      "outputs": [
        {
          "output_type": "stream",
          "name": "stdout",
          "text": [
            "False\n",
            "False\n"
          ]
        }
      ]
    },
    {
      "cell_type": "code",
      "source": [
        "word = 'hannah nathanielle'\n",
        "\n",
        "for letter in word:\n",
        "    if letter not in 'aeiou':\n",
        "     print(letter)"
      ],
      "metadata": {
        "colab": {
          "base_uri": "https://localhost:8080/"
        },
        "id": "3Grqr-Tastvy",
        "outputId": "976695e5-6e58-40a0-d233-dda7dfaa4c6f"
      },
      "execution_count": 56,
      "outputs": [
        {
          "output_type": "stream",
          "name": "stdout",
          "text": [
            "h\n",
            "n\n",
            "n\n",
            "h\n",
            " \n",
            "n\n",
            "t\n",
            "h\n",
            "n\n",
            "l\n",
            "l\n"
          ]
        }
      ]
    },
    {
      "cell_type": "code",
      "source": [],
      "metadata": {
        "id": "6qVHMCezwOHZ"
      },
      "execution_count": null,
      "outputs": []
    }
  ]
}