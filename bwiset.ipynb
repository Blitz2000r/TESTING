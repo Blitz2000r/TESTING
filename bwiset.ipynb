{
  "nbformat": 4,
  "nbformat_minor": 0,
  "metadata": {
    "colab": {
      "provenance": [],
      "collapsed_sections": [],
      "authorship_tag": "ABX9TyPTrSJ3jfcd+0MmYFy28t3z",
      "include_colab_link": true
    },
    "kernelspec": {
      "name": "python3",
      "display_name": "Python 3"
    },
    "language_info": {
      "name": "python"
    }
  },
  "cells": [
    {
      "cell_type": "markdown",
      "metadata": {
        "id": "view-in-github",
        "colab_type": "text"
      },
      "source": [
        "<a href=\"https://colab.research.google.com/github/Blitz2000r/TESTING/blob/main/bwiset.ipynb\" target=\"_parent\"><img src=\"https://colab.research.google.com/assets/colab-badge.svg\" alt=\"Open In Colab\"/></a>"
      ]
    },
    {
      "cell_type": "code",
      "execution_count": null,
      "metadata": {
        "id": "NyO86nFU1DaB"
      },
      "outputs": [],
      "source": [
        "class Rectangle:\n",
        "    def calcArea(self):\n",
        "        # Access properties:\n",
        "        return self.height * self.width\n",
        " \n",
        "    def printData (self):\n",
        "        print(\"Height =\", self.height)\n",
        "        print(\"Width =\", self.width)\n",
        "\n",
        " area = self.calcArea()\n",
        "  print(\"Area =\", area)\n",
        " \n",
        "rectangle = Rectangle()\n",
        "\n",
        "rectangle.height = 10\n",
        "rectanglec.width = 10\n",
        "\n",
        "rectangle.printData()"
      ]
    },
    {
      "cell_type": "code",
      "source": [
        "class E:\n",
        "  def printE(self):\n",
        "      print(\"E\")\n",
        "\n",
        "class Hannah:\n",
        "  def printHannah(self):\n",
        "      print(\"Hannah\")\n",
        "\n",
        "class Molly:\n",
        "  def printMolly(self):\n",
        "      print(\"Molly\")\n",
        "\n",
        "class Codm(E, Hannah, Molly):\n",
        "  def printCodm(self):\n",
        "      print(\"Codm\")\n",
        "\n",
        "cObject = Codm\n",
        "cObject.printE()\n",
        "cObject.printHannah()\n",
        "cObject.printMolly()\n",
        "cObject.printCodm()\n"
      ],
      "metadata": {
        "id": "NnW6zMzw9DV_"
      },
      "execution_count": null,
      "outputs": []
    },
    {
      "cell_type": "code",
      "source": [
        "print(\"CAlling all CAll of Duty Mobile players noob or pro please proceed to Battle Royale.\")\n",
        "print(\"Thankyou and goodluck soldiers :)\")\n"
      ],
      "metadata": {
        "colab": {
          "base_uri": "https://localhost:8080/"
        },
        "id": "8IQVYKCTCUDi",
        "outputId": "8d49e758-58bd-4759-e78e-8b6d83eb9601"
      },
      "execution_count": null,
      "outputs": [
        {
          "output_type": "stream",
          "name": "stdout",
          "text": [
            "CAlling all CAll of Duty Mobile players noob or pro please proceed to Battle Royale.\n",
            "Thankyou and goodluck soldiers :)\n"
          ]
        }
      ]
    },
    {
      "cell_type": "code",
      "source": [
        "device = \"computer\" , \"cllphone\"\n",
        "chihirya = \"ribee\" , \"martys\"\n",
        "\n",
        "print(device, chihirya)"
      ],
      "metadata": {
        "id": "y_RWFaIhFKAR"
      },
      "execution_count": null,
      "outputs": []
    },
    {
      "cell_type": "code",
      "source": [
        "print(\"python is awe+some\")\n"
      ],
      "metadata": {
        "id": "eJE-9Jo4GfkT"
      },
      "execution_count": null,
      "outputs": []
    },
    {
      "cell_type": "code",
      "source": [
        "height = 8\n",
        "width = 2\n",
        "length = 3\n",
        "\n",
        "area = height * width * length\n",
        "print(\"Area =\" , area)"
      ],
      "metadata": {
        "id": "7Tnhm6W6G0xH"
      },
      "execution_count": null,
      "outputs": []
    },
    {
      "cell_type": "code",
      "source": [
        "if True:\n",
        "  print(\"tama malamang\")\n",
        "\n",
        "if False:\n",
        "  print(\"edi mali\")\n",
        "\n",
        "varName = False\n",
        "\n",
        "if varName:\n",
        "  print(\"panget ka\")"
      ],
      "metadata": {
        "id": "M7-PcfzPHiwS"
      },
      "execution_count": null,
      "outputs": []
    },
    {
      "cell_type": "code",
      "source": [
        "grade = 85\n",
        "if grade <=75:\n",
        "  print(\"kumapit ka lang\")\n",
        "\n",
        "if grade >80:\n",
        "  print(\"galing sana all\")"
      ],
      "metadata": {
        "id": "0V-JsTNRIiSw"
      },
      "execution_count": null,
      "outputs": []
    },
    {
      "cell_type": "code",
      "source": [
        "score = 75\n",
        "\n",
        "if score >= 0 and score <= 25:\n",
        "   print(\"magbalot ka na\")\n",
        "if score >= 26 and score <= 50:\n",
        "   print(\"onti pa push\")\n",
        "if score >= 51 and score <= 75:\n",
        "   print(\"kaya pa? kaya yan\")\n",
        "if score >= 76 and score <= 100:\n",
        "  print(\"oh divuhh nakaya mo:)\")"
      ],
      "metadata": {
        "id": "Nu0EJh_3JZom"
      },
      "execution_count": null,
      "outputs": []
    }
  ]
}